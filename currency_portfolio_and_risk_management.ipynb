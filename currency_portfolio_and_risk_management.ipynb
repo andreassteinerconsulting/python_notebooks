{
 "cells": [
  {
   "cell_type": "markdown",
   "id": "3f2baab2-5521-4ace-bc71-d226c419c906",
   "metadata": {},
   "source": [
    "# Currency Portfolio and Risk Management"
   ]
  },
  {
   "cell_type": "markdown",
   "id": "859be9df",
   "metadata": {
    "papermill": {
     "duration": 0.006365,
     "end_time": "2025-09-09T20:52:48.440633",
     "exception": false,
     "start_time": "2025-09-09T20:52:48.434268",
     "status": "completed"
    },
    "tags": []
   },
   "source": [
    "## Introduction"
   ]
  },
  {
   "cell_type": "markdown",
   "id": "bb445788",
   "metadata": {
    "papermill": {
     "duration": 0.004939,
     "end_time": "2025-09-09T20:52:48.451239",
     "exception": false,
     "start_time": "2025-09-09T20:52:48.446300",
     "status": "completed"
    },
    "tags": []
   },
   "source": [
    "This notebook is about currencies in investment portfolio and risk management.\n",
    "\n",
    "Our goal is to build up a systematic text, llustrated with realistic data and Python code.\n",
    "\n",
    "Let's start by creating a data structure consisting of 10 **assets** in 4 **currencies** and 3 **asset classes**."
   ]
  },
  {
   "cell_type": "code",
   "execution_count": 1,
   "id": "f8c0570c",
   "metadata": {
    "papermill": {
     "duration": 1.783371,
     "end_time": "2025-09-09T20:52:50.240002",
     "exception": false,
     "start_time": "2025-09-09T20:52:48.456631",
     "status": "completed"
    },
    "tags": []
   },
   "outputs": [],
   "source": [
    "import pandas as pd\n",
    "import numpy as np\n",
    "\n",
    "assets = [f'Asset{i}' for i in range(1, 11)]\n",
    "\n",
    "currencies = ['USD', 'EUR', 'CHF', 'JPY']\n",
    "\n",
    "assetclasses = ['Equity', 'Bonds', 'Alternatives']\n",
    "\n",
    "asset_currency = {\n",
    "    'Asset1': 'USD',\n",
    "    'Asset2': 'USD',\n",
    "    'Asset3': 'USD',\n",
    "    'Asset4': 'USD',\n",
    "    'Asset5': 'EUR',\n",
    "    'Asset6': 'EUR',\n",
    "    'Asset7': 'EUR',\n",
    "    'Asset8': 'CHF',\n",
    "    'Asset9': 'CHF',\n",
    "    'Asset10': 'JPY'\n",
    "}\n",
    "asset_assetclass = {\n",
    "    'Asset1': 'Equity',\n",
    "    'Asset2': 'Equity',\n",
    "    'Asset3': 'Bonds',\n",
    "    'Asset4': 'Alternatives',\n",
    "    'Asset5': 'Equity',\n",
    "    'Asset6': 'Bonds',\n",
    "    'Asset7': 'Alternatives',\n",
    "    'Asset8': 'Equity',\n",
    "    'Asset9': 'Bonds',\n",
    "    'Asset10': 'Equity'\n",
    "}"
   ]
  },
  {
   "cell_type": "markdown",
   "id": "0a83f9f2",
   "metadata": {
    "papermill": {
     "duration": 0.004953,
     "end_time": "2025-09-09T20:52:50.250542",
     "exception": false,
     "start_time": "2025-09-09T20:52:50.245589",
     "status": "completed"
    },
    "tags": []
   },
   "source": [
    "Next, we assign random **weights** to the assets. The percentage weights of assets are also called exposures."
   ]
  },
  {
   "cell_type": "code",
   "execution_count": 2,
   "id": "a24863ae",
   "metadata": {
    "papermill": {
     "duration": 0.015737,
     "end_time": "2025-09-09T20:52:50.271465",
     "exception": false,
     "start_time": "2025-09-09T20:52:50.255728",
     "status": "completed"
    },
    "tags": []
   },
   "outputs": [],
   "source": [
    "random_weights = np.random.default_rng(seed=42)\n",
    "raw_weights = random_weights.uniform(5, 20, size=10)\n",
    "weights = pd.Series(raw_weights / raw_weights.sum() * 100, index=assets)"
   ]
  },
  {
   "cell_type": "markdown",
   "id": "888c55c7",
   "metadata": {
    "papermill": {
     "duration": 0.004999,
     "end_time": "2025-09-09T20:52:50.281907",
     "exception": false,
     "start_time": "2025-09-09T20:52:50.276908",
     "status": "completed"
    },
    "tags": []
   },
   "source": [
    "Not only assets have currencies, also portfolios. We call the currency in which a portfolio is denominated its **base currency** (BC).\n",
    "\n",
    "The portfolio base currency is an additional element in our data structure."
   ]
  },
  {
   "cell_type": "code",
   "execution_count": 3,
   "id": "ab837eac",
   "metadata": {
    "papermill": {
     "duration": 0.011049,
     "end_time": "2025-09-09T20:52:50.298838",
     "exception": false,
     "start_time": "2025-09-09T20:52:50.287789",
     "status": "completed"
    },
    "tags": []
   },
   "outputs": [],
   "source": [
    "portfolio_currency = 'CHF'"
   ]
  },
  {
   "cell_type": "markdown",
   "id": "f247a34d",
   "metadata": {
    "papermill": {
     "duration": 0.005053,
     "end_time": "2025-09-09T20:52:50.309137",
     "exception": false,
     "start_time": "2025-09-09T20:52:50.304084",
     "status": "completed"
    },
    "tags": []
   },
   "source": [
    "A **portfolio** is nothing else than the combination of the above data elements and exposures. Python allows us to model a portfolio as a long format dataframe with metadata."
   ]
  },
  {
   "cell_type": "code",
   "execution_count": 4,
   "id": "36530449",
   "metadata": {
    "papermill": {
     "duration": 0.012599,
     "end_time": "2025-09-09T20:52:50.326949",
     "exception": false,
     "start_time": "2025-09-09T20:52:50.314350",
     "status": "completed"
    },
    "tags": []
   },
   "outputs": [],
   "source": [
    "df_long = pd.DataFrame({\n",
    "    'Basecurrency': portfolio_currency,\n",
    "    'Asset': assets,\n",
    "    'Currency': [asset_currency[a] for a in assets],\n",
    "    'Assetclass': [asset_assetclass[a] for a in assets],\n",
    "    'Weights': weights.values\n",
    "})"
   ]
  },
  {
   "cell_type": "markdown",
   "id": "c460b13c",
   "metadata": {
    "papermill": {
     "duration": 0.005024,
     "end_time": "2025-09-09T20:52:50.337496",
     "exception": false,
     "start_time": "2025-09-09T20:52:50.332472",
     "status": "completed"
    },
    "tags": []
   },
   "source": [
    "### Currency Exposure"
   ]
  },
  {
   "cell_type": "markdown",
   "id": "58fb3a87",
   "metadata": {
    "papermill": {
     "duration": 0.00487,
     "end_time": "2025-09-09T20:52:50.347561",
     "exception": false,
     "start_time": "2025-09-09T20:52:50.342691",
     "status": "completed"
    },
    "tags": []
   },
   "source": [
    "Having available the portfolio as a **dataframe** allows us to create allocation reports easily. Below the allocation to individual assets."
   ]
  },
  {
   "cell_type": "code",
   "execution_count": 5,
   "id": "a9de35bd",
   "metadata": {
    "papermill": {
     "duration": 0.025377,
     "end_time": "2025-09-09T20:52:50.377944",
     "exception": false,
     "start_time": "2025-09-09T20:52:50.352567",
     "status": "completed"
    },
    "tags": []
   },
   "outputs": [
    {
     "name": "stdout",
     "output_type": "stream",
     "text": [
      "Asset\n",
      "Asset1     11.909363\n",
      "Asset2      8.305463\n",
      "Asset3     12.819722\n",
      "Asset4     11.085627\n",
      "Asset5      4.598057\n",
      "Asset6     14.078369\n",
      "Asset7     11.771518\n",
      "Asset8     12.039593\n",
      "Asset9      4.963056\n",
      "Asset10     8.429231\n",
      "Name: Weights, dtype: float64\n",
      "Sum of asset exposures: 100.00%\n",
      "\n"
     ]
    }
   ],
   "source": [
    "# 1. Allocation to all assets\n",
    "asset_allocation = df_long.set_index('Asset')['Weights']\n",
    "print(asset_allocation)\n",
    "print(f\"Sum of asset exposures: {asset_allocation.sum():.2f}%\\n\")"
   ]
  },
  {
   "cell_type": "markdown",
   "id": "f5437210",
   "metadata": {
    "papermill": {
     "duration": 0.005067,
     "end_time": "2025-09-09T20:52:50.388635",
     "exception": false,
     "start_time": "2025-09-09T20:52:50.383568",
     "status": "completed"
    },
    "tags": []
   },
   "source": [
    "Next the breakdown of the portfolio into asset classes and their exposures."
   ]
  },
  {
   "cell_type": "code",
   "execution_count": 6,
   "id": "13ec2ccf",
   "metadata": {
    "papermill": {
     "duration": 0.021741,
     "end_time": "2025-09-09T20:52:50.415575",
     "exception": false,
     "start_time": "2025-09-09T20:52:50.393834",
     "status": "completed"
    },
    "tags": []
   },
   "outputs": [
    {
     "name": "stdout",
     "output_type": "stream",
     "text": [
      "Assetclass\n",
      "Alternatives    22.857145\n",
      "Bonds           31.861148\n",
      "Equity          45.281707\n",
      "Name: Weights, dtype: float64\n",
      "Sum of asset class exposures: 100.00%\n",
      "\n"
     ]
    }
   ],
   "source": [
    "# 2. Asset class allocation\n",
    "assetclass_allocation = df_long.groupby('Assetclass')['Weights'].sum()\n",
    "print(assetclass_allocation)\n",
    "print(f\"Sum of asset class exposures: {assetclass_allocation.sum():.2f}%\\n\")"
   ]
  },
  {
   "cell_type": "markdown",
   "id": "6c56caf1",
   "metadata": {
    "papermill": {
     "duration": 0.005104,
     "end_time": "2025-09-09T20:52:50.426182",
     "exception": false,
     "start_time": "2025-09-09T20:52:50.421078",
     "status": "completed"
    },
    "tags": []
   },
   "source": [
    "And last but not least, the currency allocation of the portfolio."
   ]
  },
  {
   "cell_type": "code",
   "execution_count": 7,
   "id": "4c57ac44",
   "metadata": {
    "papermill": {
     "duration": 0.014438,
     "end_time": "2025-09-09T20:52:50.445958",
     "exception": false,
     "start_time": "2025-09-09T20:52:50.431520",
     "status": "completed"
    },
    "tags": []
   },
   "outputs": [
    {
     "name": "stdout",
     "output_type": "stream",
     "text": [
      "Currency\n",
      "CHF    17.002649\n",
      "EUR    30.447945\n",
      "JPY     8.429231\n",
      "USD    44.120175\n",
      "Name: Weights, dtype: float64\n",
      "Sum of currency exposures: 100.00%\n",
      "\n"
     ]
    }
   ],
   "source": [
    "# 3. Currency allocation\n",
    "currency_allocation = df_long.groupby('Currency')['Weights'].sum()\n",
    "print(currency_allocation)\n",
    "print(f\"Sum of currency exposures: {currency_allocation.sum():.2f}%\\n\")"
   ]
  },
  {
   "cell_type": "markdown",
   "id": "3b45453a",
   "metadata": {
    "papermill": {
     "duration": 0.005994,
     "end_time": "2025-09-09T20:52:50.457564",
     "exception": false,
     "start_time": "2025-09-09T20:52:50.451570",
     "status": "completed"
    },
    "tags": []
   },
   "source": [
    "Asset classes and currencies can be summarized in a two-dimensional **pivot table**. This illustrates that the exposures in any multi-currency portfolio are multi-dimensional."
   ]
  },
  {
   "cell_type": "code",
   "execution_count": 8,
   "id": "d880a7a3",
   "metadata": {
    "papermill": {
     "duration": 0.042491,
     "end_time": "2025-09-09T20:52:50.505575",
     "exception": false,
     "start_time": "2025-09-09T20:52:50.463084",
     "status": "completed"
    },
    "tags": []
   },
   "outputs": [
    {
     "name": "stdout",
     "output_type": "stream",
     "text": [
      "Currency              CHF    EUR   JPY    USD  Currency Totals\n",
      "Assetclass                                                    \n",
      "Alternatives         0.00  11.77  0.00  11.09            22.86\n",
      "Bonds                4.96  14.08  0.00  12.82            31.86\n",
      "Equity              12.04   4.60  8.43  20.21            45.28\n",
      "Asset Class Totals  17.00  30.45  8.43  44.12           100.00\n"
     ]
    }
   ],
   "source": [
    "# Create pivot table\n",
    "pivot = df_long.pivot_table(\n",
    "    index='Assetclass',\n",
    "    columns='Currency',\n",
    "    values='Weights',\n",
    "    aggfunc='sum',\n",
    "    fill_value=0\n",
    ")\n",
    "\n",
    "# Add row and column totals\n",
    "pivot['Currency Totals'] = pivot.sum(axis=1)\n",
    "pivot.loc['Asset Class Totals'] = pivot.sum(axis=0)\n",
    "\n",
    "# Print table (nicely formatted)\n",
    "print(pivot.round(2))"
   ]
  },
  {
   "cell_type": "markdown",
   "id": "5dfc2a7a",
   "metadata": {
    "papermill": {
     "duration": 0.005164,
     "end_time": "2025-09-09T20:52:50.516292",
     "exception": false,
     "start_time": "2025-09-09T20:52:50.511128",
     "status": "completed"
    },
    "tags": []
   },
   "source": [
    "An additional exposure means that exposure management gets more complicated. In fact, the above structure implies that currency and asset class exposures are interdependent and cannot be set independently: every asset class allocation decision has a currency allocation implication and vice versa.\n",
    "\n",
    "We will discuss how currency exposures can be managed independently of asset class exposures later."
   ]
  },
  {
   "cell_type": "markdown",
   "id": "d27d0499",
   "metadata": {
    "papermill": {
     "duration": 0.005072,
     "end_time": "2025-09-09T20:52:50.526801",
     "exception": false,
     "start_time": "2025-09-09T20:52:50.521729",
     "status": "completed"
    },
    "tags": []
   },
   "source": [
    "# Currency Returns"
   ]
  },
  {
   "cell_type": "markdown",
   "id": "c3f4dc0b",
   "metadata": {
    "papermill": {
     "duration": 0.00504,
     "end_time": "2025-09-09T20:52:50.537101",
     "exception": false,
     "start_time": "2025-09-09T20:52:50.532061",
     "status": "completed"
    },
    "tags": []
   },
   "source": [
    "## Currency Quotes"
   ]
  },
  {
   "cell_type": "markdown",
   "id": "54be963e",
   "metadata": {
    "papermill": {
     "duration": 0.005013,
     "end_time": "2025-09-09T20:52:50.547358",
     "exception": false,
     "start_time": "2025-09-09T20:52:50.542345",
     "status": "completed"
    },
    "tags": []
   },
   "source": [
    "## Currency Spot Returns"
   ]
  },
  {
   "cell_type": "markdown",
   "id": "ee6a881d",
   "metadata": {
    "papermill": {
     "duration": 0.005083,
     "end_time": "2025-09-09T20:52:50.557926",
     "exception": false,
     "start_time": "2025-09-09T20:52:50.552843",
     "status": "completed"
    },
    "tags": []
   },
   "source": [
    "# Currency Risk"
   ]
  },
  {
   "cell_type": "markdown",
   "id": "417c01f1",
   "metadata": {
    "papermill": {
     "duration": 0.005088,
     "end_time": "2025-09-09T20:52:50.568387",
     "exception": false,
     "start_time": "2025-09-09T20:52:50.563299",
     "status": "completed"
    },
    "tags": []
   },
   "source": [
    "## FX Volatility"
   ]
  },
  {
   "cell_type": "markdown",
   "id": "e01735b6",
   "metadata": {
    "papermill": {
     "duration": 0.005128,
     "end_time": "2025-09-09T20:52:50.578864",
     "exception": false,
     "start_time": "2025-09-09T20:52:50.573736",
     "status": "completed"
    },
    "tags": []
   },
   "source": [
    "## Currency Correlations"
   ]
  },
  {
   "cell_type": "markdown",
   "id": "b6d7b7be",
   "metadata": {
    "papermill": {
     "duration": 0.00507,
     "end_time": "2025-09-09T20:52:50.589305",
     "exception": false,
     "start_time": "2025-09-09T20:52:50.584235",
     "status": "completed"
    },
    "tags": []
   },
   "source": [
    "## Currency Correlations With Assets"
   ]
  },
  {
   "cell_type": "markdown",
   "id": "e6d074b9",
   "metadata": {
    "papermill": {
     "duration": 0.004967,
     "end_time": "2025-09-09T20:52:50.599645",
     "exception": false,
     "start_time": "2025-09-09T20:52:50.594678",
     "status": "completed"
    },
    "tags": []
   },
   "source": [
    "## FX Risk versus Currency Risk"
   ]
  },
  {
   "cell_type": "markdown",
   "id": "60b61c38",
   "metadata": {
    "papermill": {
     "duration": 0.005187,
     "end_time": "2025-09-09T20:52:50.610131",
     "exception": false,
     "start_time": "2025-09-09T20:52:50.604944",
     "status": "completed"
    },
    "tags": []
   },
   "source": [
    "## Currency Correlations and Asset Classes"
   ]
  },
  {
   "cell_type": "markdown",
   "id": "6d9ffd5b",
   "metadata": {
    "papermill": {
     "duration": 0.005032,
     "end_time": "2025-09-09T20:52:50.620529",
     "exception": false,
     "start_time": "2025-09-09T20:52:50.615497",
     "status": "completed"
    },
    "tags": []
   },
   "source": [
    "# Currency Forwards"
   ]
  },
  {
   "cell_type": "markdown",
   "id": "51c21bc6",
   "metadata": {
    "papermill": {
     "duration": 0.00506,
     "end_time": "2025-09-09T20:52:50.630986",
     "exception": false,
     "start_time": "2025-09-09T20:52:50.625926",
     "status": "completed"
    },
    "tags": []
   },
   "source": [
    "## Return and Risk of Currency Forwards"
   ]
  },
  {
   "cell_type": "markdown",
   "id": "09483447",
   "metadata": {
    "papermill": {
     "duration": 0.005041,
     "end_time": "2025-09-09T20:52:50.641369",
     "exception": false,
     "start_time": "2025-09-09T20:52:50.636328",
     "status": "completed"
    },
    "tags": []
   },
   "source": [
    "## Covered Interest Rate Arbitrage"
   ]
  },
  {
   "cell_type": "markdown",
   "id": "43154425",
   "metadata": {
    "papermill": {
     "duration": 0.005332,
     "end_time": "2025-09-09T20:52:50.716000",
     "exception": false,
     "start_time": "2025-09-09T20:52:50.710668",
     "status": "completed"
    },
    "tags": []
   },
   "source": [
    "## Expected Currency Returns and Currency Surprise"
   ]
  },
  {
   "cell_type": "markdown",
   "id": "14f9c24b",
   "metadata": {
    "papermill": {
     "duration": 0.005231,
     "end_time": "2025-09-09T20:52:50.726602",
     "exception": false,
     "start_time": "2025-09-09T20:52:50.721371",
     "status": "completed"
    },
    "tags": []
   },
   "source": [
    "# Currency Hedging with Forwards"
   ]
  },
  {
   "cell_type": "markdown",
   "id": "5bb96882",
   "metadata": {
    "papermill": {
     "duration": 0.00536,
     "end_time": "2025-09-09T20:52:50.737316",
     "exception": false,
     "start_time": "2025-09-09T20:52:50.731956",
     "status": "completed"
    },
    "tags": []
   },
   "source": [
    "## Introduction to Hedging"
   ]
  },
  {
   "cell_type": "markdown",
   "id": "daccf2e8",
   "metadata": {
    "papermill": {
     "duration": 0.005192,
     "end_time": "2025-09-09T20:52:50.747960",
     "exception": false,
     "start_time": "2025-09-09T20:52:50.742768",
     "status": "completed"
    },
    "tags": []
   },
   "source": [
    "## Fully Hedged Return and Risk"
   ]
  },
  {
   "cell_type": "markdown",
   "id": "19aad12d",
   "metadata": {
    "papermill": {
     "duration": 0.005207,
     "end_time": "2025-09-09T20:52:50.758609",
     "exception": false,
     "start_time": "2025-09-09T20:52:50.753402",
     "status": "completed"
    },
    "tags": []
   },
   "source": [
    "## Partially Hedged Return and Risk"
   ]
  },
  {
   "cell_type": "markdown",
   "id": "fe41706b",
   "metadata": {
    "papermill": {
     "duration": 0.005118,
     "end_time": "2025-09-09T20:52:50.769194",
     "exception": false,
     "start_time": "2025-09-09T20:52:50.764076",
     "status": "completed"
    },
    "tags": []
   },
   "source": [
    "## Currency Hedge Ratios"
   ]
  },
  {
   "cell_type": "markdown",
   "id": "771b0afb",
   "metadata": {
    "papermill": {
     "duration": 0.005126,
     "end_time": "2025-09-09T20:52:50.779607",
     "exception": false,
     "start_time": "2025-09-09T20:52:50.774481",
     "status": "completed"
    },
    "tags": []
   },
   "source": [
    "# Currency in Portfolio Construction"
   ]
  },
  {
   "cell_type": "markdown",
   "id": "572336f4",
   "metadata": {
    "papermill": {
     "duration": 0.005112,
     "end_time": "2025-09-09T20:52:50.790031",
     "exception": false,
     "start_time": "2025-09-09T20:52:50.784919",
     "status": "completed"
    },
    "tags": []
   },
   "source": [
    "## Overview of Approaches"
   ]
  },
  {
   "cell_type": "markdown",
   "id": "c2becf3b",
   "metadata": {
    "papermill": {
     "duration": 0.005134,
     "end_time": "2025-09-09T20:52:50.800411",
     "exception": false,
     "start_time": "2025-09-09T20:52:50.795277",
     "status": "completed"
    },
    "tags": []
   },
   "source": [
    "## Strategic Currency Allocation "
   ]
  },
  {
   "cell_type": "markdown",
   "id": "fc2fd28b",
   "metadata": {
    "papermill": {
     "duration": 0.005125,
     "end_time": "2025-09-09T20:52:50.810800",
     "exception": false,
     "start_time": "2025-09-09T20:52:50.805675",
     "status": "completed"
    },
    "tags": []
   },
   "source": [
    "## Tactical Currency Allocation"
   ]
  },
  {
   "cell_type": "markdown",
   "id": "591fe873",
   "metadata": {
    "papermill": {
     "duration": 0.005115,
     "end_time": "2025-09-09T20:52:50.821138",
     "exception": false,
     "start_time": "2025-09-09T20:52:50.816023",
     "status": "completed"
    },
    "tags": []
   },
   "source": [
    "## Currency in Portfolio Optimization"
   ]
  },
  {
   "cell_type": "markdown",
   "id": "bac688b8",
   "metadata": {
    "papermill": {
     "duration": 0.005123,
     "end_time": "2025-09-09T20:52:50.831567",
     "exception": false,
     "start_time": "2025-09-09T20:52:50.826444",
     "status": "completed"
    },
    "tags": []
   },
   "source": [
    "### One-Step Optimization"
   ]
  },
  {
   "cell_type": "markdown",
   "id": "d472c94c",
   "metadata": {
    "papermill": {
     "duration": 0.005674,
     "end_time": "2025-09-09T20:52:50.842731",
     "exception": false,
     "start_time": "2025-09-09T20:52:50.837057",
     "status": "completed"
    },
    "tags": []
   },
   "source": [
    "### Two-Step Optimization"
   ]
  },
  {
   "cell_type": "markdown",
   "id": "459f01a6",
   "metadata": {
    "papermill": {
     "duration": 0.005271,
     "end_time": "2025-09-09T20:52:50.853305",
     "exception": false,
     "start_time": "2025-09-09T20:52:50.848034",
     "status": "completed"
    },
    "tags": []
   },
   "source": [
    "## Factor Approaches to Currency Investing"
   ]
  }
 ],
 "metadata": {
  "kaggle": {
   "accelerator": "none",
   "dataSources": [],
   "dockerImageVersionId": 31089,
   "isGpuEnabled": false,
   "isInternetEnabled": false,
   "language": "python",
   "sourceType": "notebook"
  },
  "kernelspec": {
   "display_name": "Python 3 (ipykernel)",
   "language": "python",
   "name": "python3"
  },
  "language_info": {
   "codemirror_mode": {
    "name": "ipython",
    "version": 3
   },
   "file_extension": ".py",
   "mimetype": "text/x-python",
   "name": "python",
   "nbconvert_exporter": "python",
   "pygments_lexer": "ipython3",
   "version": "3.13.7"
  },
  "papermill": {
   "default_parameters": {},
   "duration": 8.105183,
   "end_time": "2025-09-09T20:52:51.377880",
   "environment_variables": {},
   "exception": null,
   "input_path": "__notebook__.ipynb",
   "output_path": "__notebook__.ipynb",
   "parameters": {},
   "start_time": "2025-09-09T20:52:43.272697",
   "version": "2.6.0"
  }
 },
 "nbformat": 4,
 "nbformat_minor": 5
}
