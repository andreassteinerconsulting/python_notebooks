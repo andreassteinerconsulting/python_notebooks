{
 "cells": [
  {
   "cell_type": "markdown",
   "id": "7d50941c-00ea-4df7-8d37-a085ed0f24de",
   "metadata": {},
   "source": [
    "# The MaxDet Correlation Matrix Completion Method"
   ]
  },
  {
   "cell_type": "markdown",
   "id": "7de8d45f-872a-4920-897a-79ad792f957e",
   "metadata": {},
   "source": [
    "The MaxDet method (maximum determinant method) is a technique for completing a partially specified correlation matrix by selecting the values for the missing entries that maximize the determinant of the resulting matrix, subject to the matrix being positive semidefinite and having unit diagonal elements."
   ]
  },
  {
   "cell_type": "markdown",
   "id": "92767967-003c-456c-984a-09937acfeae7",
   "metadata": {},
   "source": [
    "The chosen completion is the one that makes the determinant of the matrix as large as possible. The determinant of a correlation matrix is maximized when the variables are least correlated (i.e., most \"independent\") given the constraints."
   ]
  },
  {
   "cell_type": "markdown",
   "id": "f66eb021-621e-4a6f-bd0e-e87f66bb7416",
   "metadata": {},
   "source": [
    "The MaxDet resusult has some noteworthy properties:\n",
    "\n",
    "* The MaxDet solution always exists and is unique if there is any valid completion at all.\n",
    "* It is the maximum entropy solution, making it a natural choice when least bias or the most uncertainty is desired; this represents making the fewest possible assumptions beyond the constraints imposed by the known values.\n",
    "* It coincides with the maximum likelihood estimate of the true correlation matrix, under a multivariate normal model, given the specified entries.\n",
    "* The solution lies at the \"analytic center\" of the feasible region defined by the positive semidefiniteness constraints."
   ]
  },
  {
   "cell_type": "markdown",
   "id": "219c4fc6-c400-4da5-8832-fb098f2d2907",
   "metadata": {},
   "source": [
    "The MaxDet method is often cited in the literature and regulatory guidance as a suitable or recommended way to complete missing values, due to its attractive mathematical properties. For example, under Solvency II (EU), \"Integration Technique 2\" involves prudent bounds and positive definiteness for missing correlations, with central completions often suggested by MaxDet algorithms."
   ]
  },
  {
   "cell_type": "markdown",
   "id": "66f86d8f-0702-402d-b51b-57668b712e71",
   "metadata": {},
   "source": [
    "Let us illustrate the MaxDet method with some Python calcualtions. First, we load important Python libraries."
   ]
  },
  {
   "cell_type": "code",
   "execution_count": 1,
   "id": "f92ecd46-0658-4b02-8591-a977437dda45",
   "metadata": {},
   "outputs": [],
   "source": [
    "import numpy as np\n",
    "import cvxpy as cp\n",
    "import pandas as pd"
   ]
  },
  {
   "cell_type": "markdown",
   "id": "7e093cc2-e6c4-4dd7-8c1f-9c4645591ecb",
   "metadata": {},
   "source": [
    "STEP 1: Generate a random symmetric 5x5 matrix with ones on the diagonal."
   ]
  },
  {
   "cell_type": "code",
   "execution_count": 2,
   "id": "e5520d94-fa79-4317-956a-6c200cb5afcd",
   "metadata": {},
   "outputs": [
    {
     "name": "stdout",
     "output_type": "stream",
     "text": [
      "          0         1         2         3         4\n",
      "0  1.000000 -0.163433  0.044866 -0.101832 -0.126184\n",
      "1 -0.163433  1.000000  0.122764  0.038215  0.057155\n",
      "2  0.044866  0.122764  1.000000  0.008525  0.042819\n",
      "3 -0.101832  0.038215  0.008525  1.000000  0.018358\n",
      "4 -0.126184  0.057155  0.042819  0.018358  1.000000\n"
     ]
    }
   ],
   "source": [
    "# STEP 1: Generate random PSD correlation matrix\n",
    "np.random.seed(42)\n",
    "X = np.random.normal(size=(100, 5))\n",
    "A = np.corrcoef(X, rowvar=False)  # guaranteed PSD\n",
    "\n",
    "# Random matrix (not guaranteed to be PSD (will be fixed in a future version of this notebook):\n",
    "print(pd.DataFrame(A))"
   ]
  },
  {
   "cell_type": "markdown",
   "id": "668d0ae3-f69a-44cd-b7b7-b911fd8a14ea",
   "metadata": {},
   "source": [
    "Evaluate the generated correlations."
   ]
  },
  {
   "cell_type": "code",
   "execution_count": 3,
   "id": "1fa75574-a617-4bee-abb8-ce91410914dd",
   "metadata": {},
   "outputs": [
    {
     "name": "stdout",
     "output_type": "stream",
     "text": [
      "\n",
      "Determinant of original A: 0.9257793320288289\n",
      "Eigenvalues of A: [0.75068968 0.92287684 0.97741619 1.06361835 1.28539894]\n",
      "Diagonals of A: [1. 1. 1. 1. 1.]\n"
     ]
    }
   ],
   "source": [
    "print(\"\\nDeterminant of original A:\", np.linalg.det(A))\n",
    "print(\"Eigenvalues of A:\", np.linalg.eigvalsh(A))\n",
    "print(\"Diagonals of A:\", np.diag(A))"
   ]
  },
  {
   "cell_type": "markdown",
   "id": "425b55c4-72b5-445b-808a-d372790f0a44",
   "metadata": {},
   "source": [
    "STEP 2: Create partial data  by masking 3 random off-diagonal values"
   ]
  },
  {
   "cell_type": "code",
   "execution_count": 4,
   "id": "64488c64-46ea-486f-ae4a-fbddb5de8128",
   "metadata": {},
   "outputs": [
    {
     "name": "stdout",
     "output_type": "stream",
     "text": [
      "          0         1         2         3         4\n",
      "0  1.000000 -0.163433  0.044866 -0.101832 -0.126184\n",
      "1 -0.163433  1.000000  0.122764  0.038215  0.057155\n",
      "2  0.044866  0.122764  1.000000       NaN       NaN\n",
      "3 -0.101832  0.038215       NaN  1.000000       NaN\n",
      "4 -0.126184  0.057155       NaN       NaN  1.000000\n"
     ]
    }
   ],
   "source": [
    "mask = np.ones_like(A, dtype=bool)\n",
    "np.fill_diagonal(mask, False)\n",
    "missing_indices = np.random.choice(np.where(mask.flatten())[0], size=3, replace=False)\n",
    "for idx in missing_indices:\n",
    "    i, j = divmod(idx, A.shape[1])\n",
    "    A[i, j] = np.nan\n",
    "    A[j, i] = np.nan\n",
    "\n",
    "# Matrix with missing entries:\n",
    "print(pd.DataFrame(A))"
   ]
  },
  {
   "cell_type": "markdown",
   "id": "2661772d-7f4e-4f06-8081-1a65fa6bb63e",
   "metadata": {},
   "source": [
    "STEP 3: MaxDet completion - maximize log(det(X)) subject to X PSD, X[i,j]=A[i,j] if specified, diag(X)=1"
   ]
  },
  {
   "cell_type": "code",
   "execution_count": 5,
   "id": "6bcbe5fd-fb7f-44fa-96ea-99acdf7ebffe",
   "metadata": {},
   "outputs": [
    {
     "name": "stdout",
     "output_type": "stream",
     "text": [
      "          0         1         2         3         4\n",
      "0  1.000000 -0.163433  0.044866 -0.101832 -0.126184\n",
      "1 -0.163433  1.000000  0.122764  0.038215  0.057155\n",
      "2  0.044866  0.122764  1.000000 -0.001686 -0.000778\n",
      "3 -0.101832  0.038215 -0.001686  1.000000  0.013659\n",
      "4 -0.126184  0.057155 -0.000778  0.013659  1.000000\n"
     ]
    }
   ],
   "source": [
    "X = cp.Variable((5,5), symmetric=True)\n",
    "constraints = [X >> 0]  # X is positive semidefinite\n",
    "constraints += [X[i,i] == 1 for i in range(5)]\n",
    "for i in range(5):\n",
    "    for j in range(i+1, 5):\n",
    "        if not np.isnan(A[i,j]):\n",
    "            constraints += [X[i,j] == A[i,j], X[j,i] == A[j,i]]\n",
    "\n",
    "problem = cp.Problem(cp.Maximize(cp.log_det(X)), constraints)\n",
    "problem.solve()\n",
    "\n",
    "# nMaxDet completed matrix:\n",
    "print(pd.DataFrame(X.value))"
   ]
  },
  {
   "cell_type": "markdown",
   "id": "95770bf8-3938-4e11-b2d2-605fe1087801",
   "metadata": {},
   "source": [
    "Evaluate the end result."
   ]
  },
  {
   "cell_type": "code",
   "execution_count": 6,
   "id": "42ab8765-103b-4beb-81af-24e26ff0b9c7",
   "metadata": {},
   "outputs": [
    {
     "name": "stdout",
     "output_type": "stream",
     "text": [
      "\n",
      "Determinant of completed matrix: 0.9277259467272276\n",
      "Eigenvalues: [0.76023523 0.89946869 0.98670955 1.07748289 1.27610364]\n",
      "Diagonals: [1. 1. 1. 1. 1.]\n"
     ]
    }
   ],
   "source": [
    "print(\"\\nDeterminant of completed matrix:\", np.linalg.det(X.value))\n",
    "print(\"Eigenvalues:\", np.linalg.eigvalsh(X.value))\n",
    "print(\"Diagonals:\", np.diag(X.value))"
   ]
  },
  {
   "cell_type": "markdown",
   "id": "49d80222-e249-48af-b4e0-042085131cb1",
   "metadata": {},
   "source": [
    "The following references provide further details on this topic:\n",
    "* L. Vandenberghe & S. Boyd, \"Determinant Maximization with Linear Matrix Inequality Constraints\" (1996) - Foundational work formalizing the maxdet problem in convex optimization, including efficient algorithms for matrix completion.\n",
    "* D.I. Georgescu, \"Explicit solutions to correlation matrix completion problems with block pattern\" (2018) - Details theory of maxdet completions, including explicit solutions for certain block-patterned matrices.\n",
    "* \"Completing Correlation Matrices,\" The Actuary/Bank Underground (2018) - Practically oriented discussion of maxdet in risk modeling and capital requirement estimation; explains intuition and practical algorithms."
   ]
  }
 ],
 "metadata": {
  "kernelspec": {
   "display_name": "Python 3 (ipykernel)",
   "language": "python",
   "name": "python3"
  },
  "language_info": {
   "codemirror_mode": {
    "name": "ipython",
    "version": 3
   },
   "file_extension": ".py",
   "mimetype": "text/x-python",
   "name": "python",
   "nbconvert_exporter": "python",
   "pygments_lexer": "ipython3",
   "version": "3.13.7"
  }
 },
 "nbformat": 4,
 "nbformat_minor": 5
}
